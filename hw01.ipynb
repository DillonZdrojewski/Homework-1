{
  "nbformat": 4,
  "nbformat_minor": 0,
  "metadata": {
    "colab": {
      "provenance": [],
      "include_colab_link": true
    },
    "kernelspec": {
      "name": "python3",
      "display_name": "Python 3"
    },
    "language_info": {
      "name": "python"
    }
  },
  "cells": [
    {
      "cell_type": "markdown",
      "metadata": {
        "id": "view-in-github",
        "colab_type": "text"
      },
      "source": [
        "<a href=\"https://colab.research.google.com/github/DillonZdrojewski/Homework-1/blob/main/hw01.ipynb\" target=\"_parent\"><img src=\"https://colab.research.google.com/assets/colab-badge.svg\" alt=\"Open In Colab\"/></a>"
      ]
    },
    {
      "cell_type": "markdown",
      "source": [
        "# HW 01"
      ],
      "metadata": {
        "id": "JaguTAItuC48"
      }
    },
    {
      "cell_type": "markdown",
      "source": [
        "### Q1. Write a program to input your age and print whether you are more than or less than a billion seconds old."
      ],
      "metadata": {
        "id": "8N08oInsuN8g"
      }
    },
    {
      "cell_type": "code",
      "execution_count": null,
      "metadata": {
        "id": "KlPvWPxRuCVz",
        "colab": {
          "base_uri": "https://localhost:8080/"
        },
        "outputId": "aa23dc8b-ed7c-462f-9270-d25334324f88"
      },
      "outputs": [
        {
          "output_type": "stream",
          "name": "stdout",
          "text": [
            "How old are you?22\n",
            "You are younger than 1 billion seconds\n"
          ]
        }
      ],
      "source": [
        "## Enter answer here.\n",
        "age = float(input('How old are you?'))\n",
        "onebillionseconds = 31.7\n",
        "if age < 31:\n",
        "  print(\"You are younger than 1 billion seconds\")\n",
        "else:\n",
        "    print(\"You are older than 1 billion seconds\")"
      ]
    },
    {
      "cell_type": "markdown",
      "source": [
        "### Q2. Create a list with 10 names. Print each name with a Good morning greeting with the name using a conditional loop.\n",
        "\n",
        "For example\n",
        "\n",
        "`name = ['Ashley', 'Brianna', 'Chetan', 'David', 'Eoin', 'Francois', 'Gemma', 'Hameed', 'Ishaan', 'Joanna']`\n",
        "\n",
        "Outputs will be 'Good morning, Ashley', 'Good morning, Brianna', and so on."
      ],
      "metadata": {
        "id": "X3IPYLTgvnDh"
      }
    },
    {
      "cell_type": "code",
      "source": [
        "## Enter answer here.\n",
        "names = ['Ashley', 'Brianna', 'Chetan', 'David', 'Eoin', 'Francois', 'Gemma', 'Hameed', 'Ishaan', 'Joanna']\n",
        "for item in names:\n",
        "  print(\"Good morning, \" + item + \"!\")"
      ],
      "metadata": {
        "id": "MFG2cvatvmr2",
        "colab": {
          "base_uri": "https://localhost:8080/"
        },
        "outputId": "d3de7fd3-a384-4306-997a-34d715574832"
      },
      "execution_count": null,
      "outputs": [
        {
          "output_type": "stream",
          "name": "stdout",
          "text": [
            "Good morning, Ashley!\n",
            "Good morning, Brianna!\n",
            "Good morning, Chetan!\n",
            "Good morning, David!\n",
            "Good morning, Eoin!\n",
            "Good morning, Francois!\n",
            "Good morning, Gemma!\n",
            "Good morning, Hameed!\n",
            "Good morning, Ishaan!\n",
            "Good morning, Joanna!\n"
          ]
        }
      ]
    },
    {
      "cell_type": "markdown",
      "source": [
        "### Q3. Create a list of 15 numbers. Print only those numbers that are divisible by 2."
      ],
      "metadata": {
        "id": "niM878Jrx1bf"
      }
    },
    {
      "cell_type": "code",
      "source": [
        "## Enter answer here.\n",
        "for i in range(16):\n",
        "  print(i*2)"
      ],
      "metadata": {
        "id": "m7XjkMn8uUY2",
        "colab": {
          "base_uri": "https://localhost:8080/"
        },
        "outputId": "b685d1a4-e8f0-4473-db07-b0833f945fb1"
      },
      "execution_count": null,
      "outputs": [
        {
          "output_type": "stream",
          "name": "stdout",
          "text": [
            "0\n",
            "2\n",
            "4\n",
            "6\n",
            "8\n",
            "10\n",
            "12\n",
            "14\n",
            "16\n",
            "18\n",
            "20\n",
            "22\n",
            "24\n",
            "26\n",
            "28\n",
            "30\n"
          ]
        }
      ]
    },
    {
      "cell_type": "markdown",
      "source": [
        "### Q4. Print the squared numbers of a list containing at least 10 numbers with a mix of float, integer, and negative numbers. Use the longer method as well as list comprehension.\n",
        "\n",
        "You can either generate your own list of 10 numbers or find use a random number generator."
      ],
      "metadata": {
        "id": "u1kyA9ksy_JI"
      }
    },
    {
      "cell_type": "code",
      "source": [
        "## Enter answer here.\n",
        "\n",
        "nums = [0,-1.25,15.86,-25]\n",
        "method1_squares = []\n",
        "\n",
        "for i in nums:\n",
        "    method1_squares.append(i**2)\n",
        "\n",
        "print(method1_squares)\n",
        "\n",
        "## Now method 2\n"
      ],
      "metadata": {
        "colab": {
          "base_uri": "https://localhost:8080/"
        },
        "id": "UFHMdDgEuUbD",
        "outputId": "f1a37a19-aa1b-4d78-c25b-ea0b16f361ff"
      },
      "execution_count": null,
      "outputs": [
        {
          "output_type": "stream",
          "name": "stdout",
          "text": [
            "[0, 1.5625, 251.53959999999998, 625]\n"
          ]
        }
      ]
    },
    {
      "cell_type": "code",
      "source": [
        "#Method 1 Answer\n",
        "nums = list(range(1,10))\n",
        "method1_squared = []\n",
        "for i in nums:\n",
        "  method1_squared.append(i**2)\n",
        "print (method1_squared)\n",
        "# Method 2 Answer\n",
        "numbers = [3, -2, 7.5, -4.3, 10, -8, 6.1, 0, -1, 5]\n",
        "squared_numbers_comp = [nums * 2 for num in numbers]\n",
        "print(\"Squared numbers (list comprehension):\", squared_numbers_comp)"
      ],
      "metadata": {
        "colab": {
          "base_uri": "https://localhost:8080/"
        },
        "id": "1-hWtJ1xApuG",
        "outputId": "35d40cb2-7448-47cc-af4a-31bcd889b119"
      },
      "execution_count": null,
      "outputs": [
        {
          "output_type": "stream",
          "name": "stdout",
          "text": [
            "[1, 4, 9, 16, 25, 36, 49, 64, 81]\n",
            "Squared numbers (list comprehension): [[1, 2, 3, 4, 5, 6, 7, 8, 9, 1, 2, 3, 4, 5, 6, 7, 8, 9], [1, 2, 3, 4, 5, 6, 7, 8, 9, 1, 2, 3, 4, 5, 6, 7, 8, 9], [1, 2, 3, 4, 5, 6, 7, 8, 9, 1, 2, 3, 4, 5, 6, 7, 8, 9], [1, 2, 3, 4, 5, 6, 7, 8, 9, 1, 2, 3, 4, 5, 6, 7, 8, 9], [1, 2, 3, 4, 5, 6, 7, 8, 9, 1, 2, 3, 4, 5, 6, 7, 8, 9], [1, 2, 3, 4, 5, 6, 7, 8, 9, 1, 2, 3, 4, 5, 6, 7, 8, 9], [1, 2, 3, 4, 5, 6, 7, 8, 9, 1, 2, 3, 4, 5, 6, 7, 8, 9], [1, 2, 3, 4, 5, 6, 7, 8, 9, 1, 2, 3, 4, 5, 6, 7, 8, 9], [1, 2, 3, 4, 5, 6, 7, 8, 9, 1, 2, 3, 4, 5, 6, 7, 8, 9], [1, 2, 3, 4, 5, 6, 7, 8, 9, 1, 2, 3, 4, 5, 6, 7, 8, 9]]\n"
          ]
        }
      ]
    },
    {
      "cell_type": "markdown",
      "source": [
        "### Q5. Write a program to print a year if it is a leap year."
      ],
      "metadata": {
        "id": "0ZBlFovqA7G9"
      }
    },
    {
      "cell_type": "markdown",
      "source": [],
      "metadata": {
        "id": "OK1ctUfqA6mP"
      }
    },
    {
      "cell_type": "code",
      "source": [
        "year = int(input())\n",
        "\n",
        "if year%4 == 0:\n",
        "    print(year, \"is a leap year\")\n",
        "else:\n",
        "    print(year, \"is not a leap year\")"
      ],
      "metadata": {
        "id": "QwfOIh36uUeM",
        "colab": {
          "base_uri": "https://localhost:8080/"
        },
        "outputId": "4aa45c81-755b-4fad-ab40-00be4b47333d"
      },
      "execution_count": null,
      "outputs": [
        {
          "output_type": "stream",
          "name": "stdout",
          "text": [
            "2025\n",
            "2025 is not a leap year\n"
          ]
        }
      ]
    },
    {
      "cell_type": "code",
      "source": [
        "def is_leap_year(year):\n",
        "  return (year % 4==0 and year % 100 != 0 )\n",
        "year = int(input(\"Enter a year\"))\n",
        "if is_leap_year(year):\n",
        "  print(f\"{year} is a leap year\")\n",
        "else:\n",
        "  print(f\"{year} is not a leap year\")\n",
        "\n"
      ],
      "metadata": {
        "colab": {
          "base_uri": "https://localhost:8080/"
        },
        "id": "Gldje6AGqYXP",
        "outputId": "278103a8-538e-48b5-96af-a5b8e2f87a71"
      },
      "execution_count": null,
      "outputs": [
        {
          "output_type": "stream",
          "name": "stdout",
          "text": [
            "Enter a year2025\n",
            "2025 is not a leap year\n"
          ]
        }
      ]
    },
    {
      "cell_type": "markdown",
      "source": [
        "### Q6. Use list comprensions to print all names in a list in upper case."
      ],
      "metadata": {
        "id": "_FRSvLlgArOJ"
      }
    },
    {
      "cell_type": "code",
      "source": [
        "names = [\"gabe\", \"aj\", \"sam\"]\n",
        "names_upper = [name.upper() for name in names]\n",
        "print(names_upper)\n"
      ],
      "metadata": {
        "id": "CwPIZcFQuUhD",
        "colab": {
          "base_uri": "https://localhost:8080/"
        },
        "outputId": "a1af5bef-e6bd-44f3-d0a1-03e8002caf08"
      },
      "execution_count": null,
      "outputs": [
        {
          "output_type": "stream",
          "name": "stdout",
          "text": [
            "['GABE', 'AJ', 'SAM']\n"
          ]
        }
      ]
    },
    {
      "cell_type": "markdown",
      "source": [
        "### Q7. Question on NUMPY arrays:\n",
        "\n",
        "a. Create a numpy array called `original` with 100 random numbers. What is the largest number, smallest number, max, min, median, and standard deviation of your array? Print them.\n",
        "\n",
        "HINT: use `np.random.uniform()`. Check online for the correct syntax. `np.random.rand(100)` will give you 100 random numbers of uniform distribution with mean 0 and standard deviation of 1, while we want a mix of larger numbers/integers.\n",
        "\n",
        "b. Now create an array called `orig_sqrt` which contains the square roots of the numbers in the original array.\n",
        "\n",
        "### Q8.  Converting 1D arrays into 2D arrays.\n",
        "\n",
        "a. Convert your original array of 100 random numbers into a 2-dimensional array called `mat_array` with 20 rows and 5 columns. Print this array.\n",
        "\n",
        "b. What is the mean of every column in `mat_array`?\n",
        "\n",
        "c. What is the sum of every row? Create a list of 20 elements that contains the sum of every row in `mat_array`.\n",
        "\n",
        "d. Create the transpose of `mat_array` and call it `transpose_array`. What are the dimensions of this array now? Again, find the mean of each column and the sum of each row.\n",
        "\n",
        "### Q9. Array slicing:\n",
        "\n",
        "a. create a new array which contains the 3rd-10th rows and all columns of `mat_array`. Print.\n",
        "\n",
        "b. Print a new array which contains the the last 5 rows and the last 2 columns of `mat_array`. What is the dimension of this array?\n",
        "\n",
        "c. Print a new array which contains the first 3 rows and last 10 columns of `transpose_array`."
      ],
      "metadata": {
        "id": "ulp3oxOZHt5r"
      }
    },
    {
      "cell_type": "code",
      "source": [
        "# Write your answer here. Feel free to break your answer into different blocks of code rather than using just this one cell. Label your answer neatly.\n"
      ],
      "metadata": {
        "id": "M6EBbfr7Iaas"
      },
      "execution_count": null,
      "outputs": []
    },
    {
      "cell_type": "code",
      "source": [
        "#7A\n",
        "import numpy as np\n",
        "original = np.random.rand(100)\n",
        "largest_number = np.max(original)\n",
        "smallest_number = np.min(original)\n",
        "max_value = original.max()\n",
        "min_value = original.min()\n",
        "median_value = np.median(original)\n",
        "std_deviation = np.std(original)\n",
        "\n",
        "largest_number, smallest_number, max_value, min_value, median_value, std_deviation\n",
        "#7B\n",
        "#orig_sqrt = [np.random.rand(100)**2]\n",
        "#orig_sqrt"
      ],
      "metadata": {
        "id": "lJWRxuplJ1R-",
        "colab": {
          "base_uri": "https://localhost:8080/"
        },
        "outputId": "6ba42596-ddea-49a2-f149-bb32da6ea8e4"
      },
      "execution_count": null,
      "outputs": [
        {
          "output_type": "execute_result",
          "data": {
            "text/plain": [
              "(0.9855967573501713,\n",
              " 0.006053749368940653,\n",
              " 0.9855967573501713,\n",
              " 0.006053749368940653,\n",
              " 0.4458043835718387,\n",
              " 0.2843688630067381)"
            ]
          },
          "metadata": {},
          "execution_count": 39
        }
      ]
    },
    {
      "cell_type": "code",
      "source": [
        "#8A\n",
        "import numpy as np\n",
        "original_array = np.random.rand(100)\n",
        "mat_array = original_array.reshape(20,5)\n",
        "#8B\n",
        "column_means = np.mean(mat_array, axis = 0)\n",
        "#8C\n",
        "row_sums = np.sum(mat_array, axis=1).tolist()\n",
        "#8D\n",
        "transpose_array = mat.array.T\n"
      ],
      "metadata": {
        "id": "FDYDgwc1Lyy1",
        "colab": {
          "base_uri": "https://localhost:8080/",
          "height": 176
        },
        "outputId": "0314be89-c3bd-47f3-c8a4-dbb67ecd6e9a"
      },
      "execution_count": 6,
      "outputs": [
        {
          "output_type": "error",
          "ename": "NameError",
          "evalue": "name 'mat' is not defined",
          "traceback": [
            "\u001b[0;31m---------------------------------------------------------------------------\u001b[0m",
            "\u001b[0;31mNameError\u001b[0m                                 Traceback (most recent call last)",
            "\u001b[0;32m<ipython-input-6-d127d2995815>\u001b[0m in \u001b[0;36m<cell line: 0>\u001b[0;34m()\u001b[0m\n\u001b[1;32m      8\u001b[0m \u001b[0mrow_sums\u001b[0m \u001b[0;34m=\u001b[0m \u001b[0mnp\u001b[0m\u001b[0;34m.\u001b[0m\u001b[0msum\u001b[0m\u001b[0;34m(\u001b[0m\u001b[0mmat_array\u001b[0m\u001b[0;34m,\u001b[0m \u001b[0maxis\u001b[0m\u001b[0;34m=\u001b[0m\u001b[0;36m1\u001b[0m\u001b[0;34m)\u001b[0m\u001b[0;34m.\u001b[0m\u001b[0mtolist\u001b[0m\u001b[0;34m(\u001b[0m\u001b[0;34m)\u001b[0m\u001b[0;34m\u001b[0m\u001b[0;34m\u001b[0m\u001b[0m\n\u001b[1;32m      9\u001b[0m \u001b[0;31m#8D\u001b[0m\u001b[0;34m\u001b[0m\u001b[0;34m\u001b[0m\u001b[0m\n\u001b[0;32m---> 10\u001b[0;31m \u001b[0mtranspose_array\u001b[0m \u001b[0;34m=\u001b[0m \u001b[0mmat\u001b[0m\u001b[0;34m.\u001b[0m\u001b[0marray\u001b[0m\u001b[0;34m.\u001b[0m\u001b[0mT\u001b[0m\u001b[0;34m\u001b[0m\u001b[0;34m\u001b[0m\u001b[0m\n\u001b[0m",
            "\u001b[0;31mNameError\u001b[0m: name 'mat' is not defined"
          ]
        }
      ]
    },
    {
      "cell_type": "code",
      "source": [
        "#9A\n",
        "slice_3_10 - mat_array[2:10, :]\n",
        "\n",
        "#9B\n",
        "slice_last5_2cols = mat_array[-5:, -2:]\n",
        "slice_last5_2cols_dims = slice_last5_2cols.shape\n",
        "\n",
        "#9C\n",
        "slice_first3_last10 = transpose_array[:3, -10:]"
      ],
      "metadata": {
        "id": "vyV9N3jpLyqP",
        "colab": {
          "base_uri": "https://localhost:8080/",
          "height": 211
        },
        "outputId": "6fef00db-0299-4e24-f8b1-422c3e47314a"
      },
      "execution_count": 7,
      "outputs": [
        {
          "output_type": "error",
          "ename": "NameError",
          "evalue": "name 'slice_3_10' is not defined",
          "traceback": [
            "\u001b[0;31m---------------------------------------------------------------------------\u001b[0m",
            "\u001b[0;31mNameError\u001b[0m                                 Traceback (most recent call last)",
            "\u001b[0;32m<ipython-input-7-11db35b1cad8>\u001b[0m in \u001b[0;36m<cell line: 0>\u001b[0;34m()\u001b[0m\n\u001b[1;32m      1\u001b[0m \u001b[0;31m#9A\u001b[0m\u001b[0;34m\u001b[0m\u001b[0;34m\u001b[0m\u001b[0m\n\u001b[0;32m----> 2\u001b[0;31m \u001b[0mslice_3_10\u001b[0m \u001b[0;34m-\u001b[0m \u001b[0mmat_array\u001b[0m\u001b[0;34m[\u001b[0m\u001b[0;36m2\u001b[0m\u001b[0;34m:\u001b[0m\u001b[0;36m10\u001b[0m\u001b[0;34m,\u001b[0m \u001b[0;34m:\u001b[0m\u001b[0;34m]\u001b[0m\u001b[0;34m\u001b[0m\u001b[0;34m\u001b[0m\u001b[0m\n\u001b[0m\u001b[1;32m      3\u001b[0m \u001b[0;34m\u001b[0m\u001b[0m\n\u001b[1;32m      4\u001b[0m \u001b[0;31m#9B\u001b[0m\u001b[0;34m\u001b[0m\u001b[0;34m\u001b[0m\u001b[0m\n\u001b[1;32m      5\u001b[0m \u001b[0mslice_last5_2cols\u001b[0m \u001b[0;34m=\u001b[0m \u001b[0mmat_array\u001b[0m\u001b[0;34m[\u001b[0m\u001b[0;34m-\u001b[0m\u001b[0;36m5\u001b[0m\u001b[0;34m:\u001b[0m\u001b[0;34m,\u001b[0m \u001b[0;34m-\u001b[0m\u001b[0;36m2\u001b[0m\u001b[0;34m:\u001b[0m\u001b[0;34m]\u001b[0m\u001b[0;34m\u001b[0m\u001b[0;34m\u001b[0m\u001b[0m\n",
            "\u001b[0;31mNameError\u001b[0m: name 'slice_3_10' is not defined"
          ]
        }
      ]
    },
    {
      "cell_type": "code",
      "source": [],
      "metadata": {
        "id": "at-4INjLLyei"
      },
      "execution_count": null,
      "outputs": []
    },
    {
      "cell_type": "markdown",
      "source": [
        "### Q10. Assume you are inviting 15 friends to your party. You guest list has the following dietary preference.\n",
        "\n",
        "`diet = ['vegetarian', 'pescetarian', 'vegetarian', 'omnivore', 'pescetarian', 'keto', 'keto', 'vegan', 'omnivore', 'omnivore', 'vegan', 'omnivore', 'keto, 'vegetarian', 'vegan']`\n",
        "\n",
        "Their ages are as follows:\n",
        "\n",
        "`age = [21, 20, 19, 25, 27, 18, 23, 25, 19, 22, 20, 20, 23, 21, 24]`\n",
        "\n",
        "Create a list called `menu` which will contain 'veg. fried rice with whiskey' for vegans and vegetarians aged 21 and above,  'veg. fried rice with mocktail' for vegans and vegetarians aged below 21. Follow the same logic and assign fish and white wine to pescetarians of legal age (and fish with mocktail to those below 21). Keto and omnivore guests above 21 will have 'steak and red wine'. Complete the series with the appropriate drink for underage guests."
      ],
      "metadata": {
        "id": "cIhCARNRLzKy"
      }
    },
    {
      "cell_type": "code",
      "source": [
        "# Write your answer here\n",
        "import numpy as np\n",
        "diet = ['vegetarian', 'pescetarian', 'vegetarian', 'omnivore', 'pescetarian', 'keto', 'keto', 'keto', 'omnivore', 'omnivore', 'vegetarian', 'omnivore', 'keto', 'vegetarian', 'omnivore']\n",
        "age = [21, 20, 19, 25, 27, 18, 23, 15, 19, 22, 20, 23, 21, 24, 23, 21]\n",
        "\n",
        "menu = {\n",
        "    \"vegetarian\": { \"adult\": \"Veg. fried rice with whiskey\", \"minor\": \"Veg. fried rice with mocktail\"},\n",
        "    \"pescetarian\": { \"adult\": \"Steak and red wine\", \"minor\": \"Fish with mocktail\"},\n",
        "    \"keto\": { \"adult\": \"Steak and red wine\", \"minor\": \"Steak and grape juice\"},\n",
        "    \"omnivore\": { \"adult\": \"Steak and red wine\", \"minor\": \"Steak and grape juice\"}\n",
        "}\n",
        "for i in range(len(diet)):\n",
        "  person_diet = diet[i]\n",
        "  person_age = age[i]\n",
        "\n",
        "  if person_age >= 21:\n",
        "    print(menu[person_diet][\"adult\"])\n",
        "  else:\n",
        "    print(menu[person_diet][\"minor\"])"
      ],
      "metadata": {
        "colab": {
          "base_uri": "https://localhost:8080/"
        },
        "id": "iniw476eteKf",
        "outputId": "7041cd89-83e1-4c96-feeb-cfe857e04a06"
      },
      "execution_count": null,
      "outputs": [
        {
          "output_type": "stream",
          "name": "stdout",
          "text": [
            "Veg. fried rice with whiskey\n",
            "Fish with mocktail\n",
            "Veg. fried rice with mocktail\n",
            "Steak and red wine\n",
            "Steak and red wine\n",
            "Steak and grape juice\n",
            "Steak and red wine\n",
            "Steak and grape juice\n",
            "Steak and grape juice\n",
            "Steak and red wine\n",
            "Veg. fried rice with mocktail\n",
            "Steak and red wine\n",
            "Steak and red wine\n",
            "Veg. fried rice with whiskey\n",
            "Steak and red wine\n"
          ]
        }
      ]
    },
    {
      "cell_type": "code",
      "source": [],
      "metadata": {
        "id": "t9NPJCDjxQC1"
      },
      "execution_count": null,
      "outputs": []
    }
  ]
}